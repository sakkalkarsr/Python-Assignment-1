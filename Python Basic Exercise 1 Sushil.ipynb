{
 "cells": [
  {
   "cell_type": "code",
   "execution_count": null,
   "id": "27f017c6",
   "metadata": {},
   "outputs": [],
   "source": [
    "** Split this string:**\n",
    "\n",
    "s = \"Hi there Yogesh!\"\n",
    "*into a list. *"
   ]
  },
  {
   "cell_type": "code",
   "execution_count": 35,
   "id": "40428ccc",
   "metadata": {},
   "outputs": [],
   "source": [
    "s= \"Hi there Yogesh!\""
   ]
  },
  {
   "cell_type": "code",
   "execution_count": 36,
   "id": "3f9ecd9b",
   "metadata": {},
   "outputs": [
    {
     "data": {
      "text/plain": [
       "['Hi', 'there', 'Yogesh!']"
      ]
     },
     "execution_count": 36,
     "metadata": {},
     "output_type": "execute_result"
    }
   ],
   "source": [
    "s.split()"
   ]
  },
  {
   "cell_type": "markdown",
   "id": "d2f81d49",
   "metadata": {},
   "source": [
    "** Given the variables:**\n",
    "\n",
    "planet = \"Earth\"\n",
    "diameter = 12742\n",
    "** Use .format() to print the following string: **\n",
    "\n",
    "The diameter of Earth is 12742 kilometers."
   ]
  },
  {
   "cell_type": "code",
   "execution_count": 6,
   "id": "302c7212",
   "metadata": {},
   "outputs": [
    {
     "name": "stdout",
     "output_type": "stream",
     "text": [
      "The diameter of Earth is 12742 kilometers\n"
     ]
    }
   ],
   "source": [
    "planet = \"Earth\"\n",
    "diameter = 12742\n",
    "print('The diameter of {} is {} kilometers'.format(planet,diameter))"
   ]
  },
  {
   "cell_type": "markdown",
   "id": "211f9d5f",
   "metadata": {},
   "source": [
    "** Given this nested list, use indexing to grab the word \"hello\" **"
   ]
  },
  {
   "cell_type": "code",
   "execution_count": 7,
   "id": "50cfd85d",
   "metadata": {},
   "outputs": [],
   "source": [
    "lst = [1,2,[3,4],[5,[100,200,['hello']],23,11],1,7]"
   ]
  },
  {
   "cell_type": "code",
   "execution_count": 22,
   "id": "98ad46df",
   "metadata": {},
   "outputs": [
    {
     "data": {
      "text/plain": [
       "'hello'"
      ]
     },
     "execution_count": 22,
     "metadata": {},
     "output_type": "execute_result"
    }
   ],
   "source": [
    "lst[3][1][2][0]"
   ]
  },
  {
   "cell_type": "markdown",
   "id": "88aa414a",
   "metadata": {},
   "source": [
    "** Given this nested dictionary grab the word \"hello\". Be prepared, this will be annoying/tricky **"
   ]
  },
  {
   "cell_type": "code",
   "execution_count": 24,
   "id": "77951728",
   "metadata": {},
   "outputs": [],
   "source": [
    "d = {'k1':[1,2,3,{'tricky':['oh','man','inception',{'target':[1,2,3,'hello']}]}]}"
   ]
  },
  {
   "cell_type": "code",
   "execution_count": 30,
   "id": "305fe38d",
   "metadata": {},
   "outputs": [
    {
     "data": {
      "text/plain": [
       "'hello'"
      ]
     },
     "execution_count": 30,
     "metadata": {},
     "output_type": "execute_result"
    }
   ],
   "source": [
    "d['k1'][3]['tricky'][3]['target'][3]"
   ]
  },
  {
   "cell_type": "markdown",
   "id": "fa6f1a37",
   "metadata": {},
   "source": [
    "** Create a function that grabs the email website domain from a string in the form: **\n",
    "\n",
    "user@domain.com\n",
    "So for example, passing \"user@domain.com\" would return: domain.com"
   ]
  },
  {
   "cell_type": "code",
   "execution_count": 44,
   "id": "7a3cbc07",
   "metadata": {},
   "outputs": [],
   "source": [
    "def my_function(email):\n",
    "    result=email.split('@')[1]\n",
    "    return(result)\n",
    "    "
   ]
  },
  {
   "cell_type": "code",
   "execution_count": 45,
   "id": "4b43e544",
   "metadata": {},
   "outputs": [
    {
     "data": {
      "text/plain": [
       "'domain.com'"
      ]
     },
     "execution_count": 45,
     "metadata": {},
     "output_type": "execute_result"
    }
   ],
   "source": [
    "my_function('user@domain.com')"
   ]
  },
  {
   "cell_type": "markdown",
   "id": "0ce7d254",
   "metadata": {},
   "source": [
    "** Create a basic function that returns True if the word 'dog' is contained in the input string. Don't worry about edge cases like a punctuation being attached to the word dog, but do account for capitalization. **"
   ]
  },
  {
   "cell_type": "code",
   "execution_count": 9,
   "id": "068a1505",
   "metadata": {},
   "outputs": [
    {
     "data": {
      "text/plain": [
       "True"
      ]
     },
     "execution_count": 9,
     "metadata": {},
     "output_type": "execute_result"
    }
   ],
   "source": [
    "findDog('Is there a DOG here?')"
   ]
  },
  {
   "cell_type": "code",
   "execution_count": 10,
   "id": "a74c1aa1",
   "metadata": {},
   "outputs": [],
   "source": [
    "#x =\"dog\"\n",
    "def findDog(x):\n",
    "    if \"dog\" in x.lower().split():\n",
    "        return True\n",
    "    else:\n",
    "        return False"
   ]
  },
  {
   "cell_type": "code",
   "execution_count": 12,
   "id": "b0fa7982",
   "metadata": {},
   "outputs": [],
   "source": [
    "def findDog(x):\n",
    "    return \"dog\" in x.lower().split()\n",
    "                "
   ]
  },
  {
   "cell_type": "code",
   "execution_count": 17,
   "id": "cfe90ca9",
   "metadata": {},
   "outputs": [
    {
     "data": {
      "text/plain": [
       "True"
      ]
     },
     "execution_count": 17,
     "metadata": {},
     "output_type": "execute_result"
    }
   ],
   "source": [
    "findDog('Is there a dog here?')"
   ]
  },
  {
   "cell_type": "code",
   "execution_count": null,
   "id": "a6b19fa8",
   "metadata": {},
   "outputs": [],
   "source": []
  },
  {
   "cell_type": "markdown",
   "id": "952ad858",
   "metadata": {},
   "source": [
    "** Create a function that counts the number of times the word \"dog\" occurs in a string. Again ignore edge cases. **\n"
   ]
  },
  {
   "cell_type": "code",
   "execution_count": 3,
   "id": "9ab3cd0f",
   "metadata": {},
   "outputs": [
    {
     "data": {
      "text/plain": [
       "2"
      ]
     },
     "execution_count": 3,
     "metadata": {},
     "output_type": "execute_result"
    }
   ],
   "source": [
    "countDog(\"This dog runs faster than the other dog dude!\")"
   ]
  },
  {
   "cell_type": "code",
   "execution_count": 2,
   "id": "93328c5d",
   "metadata": {},
   "outputs": [],
   "source": [
    "def countDog(x):\n",
    "      return x.count('dog')\n",
    "    \n",
    "    "
   ]
  },
  {
   "cell_type": "markdown",
   "id": "c8ef2b02",
   "metadata": {},
   "source": [
    "** Use lambda expressions and the filter() function to filter out words from a list that don't start with the letter 's'. For example:**\n",
    "\n",
    "seq = ['soup','dog','salad','cat','great']\n",
    "should be filtered down to:\n",
    "\n",
    "['soup','salad']"
   ]
  },
  {
   "cell_type": "code",
   "execution_count": 69,
   "id": "6e58b4f7",
   "metadata": {},
   "outputs": [
    {
     "name": "stdout",
     "output_type": "stream",
     "text": [
      "['soup', 'salad']\n"
     ]
    }
   ],
   "source": [
    "seq = ['soup','dog','salad','cat','great']\n",
    "result = filter(lambda x: x[0]=='s',seq)\n",
    "print(list(result))"
   ]
  },
  {
   "cell_type": "markdown",
   "id": "a07a9850",
   "metadata": {},
   "source": [
    "Final Problem\n",
    "\n",
    "*You are driving a little too fast, and a police officer stops you. Write a function to return one of 3 possible results:\n",
    "\"No ticket\", \"Small ticket\", or \"Big Ticket\". If your speed is 60 or less, the result is \"No Ticket\". \n",
    "If speed is between 61 and 80 inclusive, the result is \"Small Ticket\". If speed is 81 or more, the result is \"Big Ticket\". \n",
    "Unless it is your birthday (encoded as a boolean value in the parameters of the function) -- \n",
    "on your birthday, your speed can be 5 higher in all cases. *"
   ]
  },
  {
   "cell_type": "code",
   "execution_count": 1,
   "id": "8dae8b48",
   "metadata": {},
   "outputs": [],
   "source": [
    "a=\"No ticket\"\n",
    "b=\"Small ticket\"\n",
    "c=\"Big Ticket\"\n",
    "def caught_speeding(speed, is_birthday):\n",
    "    if (is_birthday==True):\n",
    "        speed1=speed+5\n",
    "    else:\n",
    "        speed1=speed\n",
    "        \n",
    "    if (speed <= 60):\n",
    "        return a\n",
    "    elif(speed >=81):\n",
    "        return c\n",
    "    else: \n",
    "        return b"
   ]
  },
  {
   "cell_type": "code",
   "execution_count": 15,
   "id": "b3d867b3",
   "metadata": {},
   "outputs": [
    {
     "data": {
      "text/plain": [
       "'No ticket'"
      ]
     },
     "execution_count": 15,
     "metadata": {},
     "output_type": "execute_result"
    }
   ],
   "source": [
    "caught_speeding(50,True)"
   ]
  },
  {
   "cell_type": "markdown",
   "id": "6ac763eb",
   "metadata": {},
   "source": [
    "Question\n",
    "Given a string print number num by extracting all the\n",
    "digits from the string as in string\n",
    "Print negative number if the first character in \n",
    "string is '-'\n",
    "eg.\n",
    "-123abcd should return -123,abcd456-->456,fdhfh78dsd89--->7889,-56dssd78-->-5678"
   ]
  },
  {
   "cell_type": "code",
   "execution_count": 9,
   "id": "01014afa",
   "metadata": {},
   "outputs": [
    {
     "name": "stdout",
     "output_type": "stream",
     "text": [
      "Enter the input:-56dssd78--\n",
      "-5678\n"
     ]
    }
   ],
   "source": [
    "s= input(\"Enter the input:\")\n",
    "num=\"\"\n",
    "a=[0,1,2,3,4,5,6,7,8,9]\n",
    "if s[0]==\"-\":\n",
    "    num=num+s[0]\n",
    "for c in s:\n",
    "    if c in str(a):\n",
    "        num=num+c\n",
    "print(num)"
   ]
  },
  {
   "cell_type": "markdown",
   "id": "b1322f75",
   "metadata": {},
   "source": [
    "Q2\n",
    "WAP to check whether a number is palindrome or not on following conditions.\n",
    "1. take input number\n",
    "2. add number and its reverse\n",
    "3. check that number is palindrome or not,if not then sum and its reverse"
   ]
  },
  {
   "cell_type": "code",
   "execution_count": 6,
   "id": "8f9d0a7c",
   "metadata": {},
   "outputs": [
    {
     "name": "stdout",
     "output_type": "stream",
     "text": [
      "Enter the number:89\n",
      "Number is: 968\n",
      "Reverse is : 869\n",
      "Number is: 1837\n",
      "Reverse is : 7381\n",
      "Number is: 9218\n",
      "Reverse is : 8129\n",
      "Number is: 17347\n",
      "Reverse is : 74371\n",
      "Number is: 91718\n",
      "Reverse is : 81719\n",
      "Number is: 173437\n",
      "Reverse is : 734371\n",
      "Number is: 907808\n",
      "Reverse is : 808709\n",
      "Number is: 1716517\n",
      "Reverse is : 7156171\n",
      "Number is: 8872688\n",
      "Reverse is : 8862788\n",
      "Number is: 17735476\n",
      "Reverse is : 67453771\n",
      "Number is: 85189247\n",
      "Reverse is : 74298158\n",
      "Number is: 159487405\n",
      "Reverse is : 504784951\n",
      "Number is: 664272356\n",
      "Reverse is : 653272466\n",
      "Number is: 1317544822\n",
      "Reverse is : 2284457131\n",
      "Number is: 3602001953\n",
      "Reverse is : 3591002063\n",
      "Number is: 7193004016\n",
      "Reverse is : 6104003917\n",
      "Number is: 13297007933\n",
      "Reverse is : 33970079231\n",
      "Number is: 47267087164\n",
      "Reverse is : 46178076274\n",
      "Number is: 93445163438\n",
      "Reverse is : 83436154439\n",
      "Number is: 176881317877\n",
      "Reverse is : 778713188671\n",
      "Number is: 955594506548\n",
      "Reverse is : 845605495559\n",
      "Number is: 1801200002107\n",
      "Reverse is : 7012000021081\n",
      "Number is: 8813200023188\n",
      "Reverse is : 8813200023188\n",
      "Palindrome is : 8813200023188\n"
     ]
    }
   ],
   "source": [
    "num1=input(\"Enter the number:\")\n",
    "num2=int(num1[::-1])\n",
    "num3=str(int(num1)+num2)\n",
    "while str(num3)!=str(num3[::-1]):\n",
    "    num3=str(int(num3)+int(num3[::-1]))\n",
    "    print(\"Number is:\",num3)\n",
    "    print(\"Reverse is :\",num3[::-1])\n",
    "print(\"Palindrome is :\",num3)"
   ]
  },
  {
   "cell_type": "code",
   "execution_count": null,
   "id": "88efed1d",
   "metadata": {},
   "outputs": [],
   "source": []
  }
 ],
 "metadata": {
  "kernelspec": {
   "display_name": "Python 3 (ipykernel)",
   "language": "python",
   "name": "python3"
  },
  "language_info": {
   "codemirror_mode": {
    "name": "ipython",
    "version": 3
   },
   "file_extension": ".py",
   "mimetype": "text/x-python",
   "name": "python",
   "nbconvert_exporter": "python",
   "pygments_lexer": "ipython3",
   "version": "3.9.7"
  }
 },
 "nbformat": 4,
 "nbformat_minor": 5
}
